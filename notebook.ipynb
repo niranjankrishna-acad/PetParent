{
 "cells": [
  {
   "cell_type": "code",
   "execution_count": 94,
   "metadata": {},
   "outputs": [
    {
     "data": {
      "text/html": [
       "<div>\n",
       "<style scoped>\n",
       "    .dataframe tbody tr th:only-of-type {\n",
       "        vertical-align: middle;\n",
       "    }\n",
       "\n",
       "    .dataframe tbody tr th {\n",
       "        vertical-align: top;\n",
       "    }\n",
       "\n",
       "    .dataframe thead th {\n",
       "        text-align: right;\n",
       "    }\n",
       "</style>\n",
       "<table border=\"1\" class=\"dataframe\">\n",
       "  <thead>\n",
       "    <tr style=\"text-align: right;\">\n",
       "      <th></th>\n",
       "      <th>D2</th>\n",
       "      <th>region</th>\n",
       "      <th>O1</th>\n",
       "      <th>O8b</th>\n",
       "      <th>P1</th>\n",
       "      <th>D1</th>\n",
       "      <th>D5</th>\n",
       "      <th>D67</th>\n",
       "      <th>D4</th>\n",
       "      <th>D11</th>\n",
       "      <th>...</th>\n",
       "      <th>H1Ax</th>\n",
       "      <th>H4</th>\n",
       "      <th>H56</th>\n",
       "      <th>S</th>\n",
       "      <th>QOL</th>\n",
       "      <th>GH</th>\n",
       "      <th>L1</th>\n",
       "      <th>H3</th>\n",
       "      <th>Q2</th>\n",
       "      <th>Q1_cat</th>\n",
       "    </tr>\n",
       "  </thead>\n",
       "  <tbody>\n",
       "    <tr>\n",
       "      <th>0</th>\n",
       "      <td>Nova Scotia</td>\n",
       "      <td>Atlantic</td>\n",
       "      <td>No</td>\n",
       "      <td>No</td>\n",
       "      <td>72</td>\n",
       "      <td>18-24</td>\n",
       "      <td>High school</td>\n",
       "      <td>Others</td>\n",
       "      <td>Men</td>\n",
       "      <td>4</td>\n",
       "      <td>...</td>\n",
       "      <td>No</td>\n",
       "      <td>Somewhat worse</td>\n",
       "      <td>No</td>\n",
       "      <td>No</td>\n",
       "      <td>0.829328</td>\n",
       "      <td>80</td>\n",
       "      <td>8</td>\n",
       "      <td>Good</td>\n",
       "      <td>A bit</td>\n",
       "      <td>Moderate</td>\n",
       "    </tr>\n",
       "    <tr>\n",
       "      <th>1</th>\n",
       "      <td>Alberta</td>\n",
       "      <td>Prairies</td>\n",
       "      <td>No</td>\n",
       "      <td>No</td>\n",
       "      <td>69</td>\n",
       "      <td>45-54</td>\n",
       "      <td>College</td>\n",
       "      <td>Caucasians</td>\n",
       "      <td>Men</td>\n",
       "      <td>4</td>\n",
       "      <td>...</td>\n",
       "      <td>No</td>\n",
       "      <td>Much worse</td>\n",
       "      <td>No</td>\n",
       "      <td>Yes</td>\n",
       "      <td>0.873691</td>\n",
       "      <td>80</td>\n",
       "      <td>5</td>\n",
       "      <td>Fair</td>\n",
       "      <td>A bit</td>\n",
       "      <td>Minimal</td>\n",
       "    </tr>\n",
       "    <tr>\n",
       "      <th>2</th>\n",
       "      <td>Newfoundland and Labrador</td>\n",
       "      <td>Atlantic</td>\n",
       "      <td>No</td>\n",
       "      <td>No</td>\n",
       "      <td>74</td>\n",
       "      <td>45-54</td>\n",
       "      <td>University</td>\n",
       "      <td>Caucasians</td>\n",
       "      <td>Men</td>\n",
       "      <td>2</td>\n",
       "      <td>...</td>\n",
       "      <td>Yes</td>\n",
       "      <td>Somewhat worse</td>\n",
       "      <td>No</td>\n",
       "      <td>Yes</td>\n",
       "      <td>0.437208</td>\n",
       "      <td>41</td>\n",
       "      <td>5</td>\n",
       "      <td>Fair</td>\n",
       "      <td>A bit</td>\n",
       "      <td>Mild</td>\n",
       "    </tr>\n",
       "    <tr>\n",
       "      <th>3</th>\n",
       "      <td>Ontario</td>\n",
       "      <td>Ontario</td>\n",
       "      <td>Yes</td>\n",
       "      <td>No</td>\n",
       "      <td>116</td>\n",
       "      <td>45-54</td>\n",
       "      <td>High school</td>\n",
       "      <td>Caucasians</td>\n",
       "      <td>Men</td>\n",
       "      <td>5</td>\n",
       "      <td>...</td>\n",
       "      <td>No</td>\n",
       "      <td>Somewhat worse</td>\n",
       "      <td>No</td>\n",
       "      <td>Yes</td>\n",
       "      <td>0.911329</td>\n",
       "      <td>80</td>\n",
       "      <td>6</td>\n",
       "      <td>Very good</td>\n",
       "      <td>Extremely</td>\n",
       "      <td>Moderate</td>\n",
       "    </tr>\n",
       "    <tr>\n",
       "      <th>4</th>\n",
       "      <td>Ontario</td>\n",
       "      <td>Ontario</td>\n",
       "      <td>Yes</td>\n",
       "      <td>No</td>\n",
       "      <td>99</td>\n",
       "      <td>18-24</td>\n",
       "      <td>University</td>\n",
       "      <td>Caucasians</td>\n",
       "      <td>Women</td>\n",
       "      <td>2</td>\n",
       "      <td>...</td>\n",
       "      <td>No</td>\n",
       "      <td>Somewhat better</td>\n",
       "      <td>No</td>\n",
       "      <td>Yes</td>\n",
       "      <td>0.860241</td>\n",
       "      <td>78</td>\n",
       "      <td>4</td>\n",
       "      <td>Very good</td>\n",
       "      <td>Not very</td>\n",
       "      <td>Minimal</td>\n",
       "    </tr>\n",
       "  </tbody>\n",
       "</table>\n",
       "<p>5 rows × 23 columns</p>\n",
       "</div>"
      ],
      "text/plain": [
       "                          D2    region   O1 O8b   P1     D1           D5  \\\n",
       "0                Nova Scotia  Atlantic   No  No   72  18-24  High school   \n",
       "1                    Alberta  Prairies   No  No   69  45-54      College   \n",
       "2  Newfoundland and Labrador  Atlantic   No  No   74  45-54   University   \n",
       "3                    Ontario   Ontario  Yes  No  116  45-54  High school   \n",
       "4                    Ontario   Ontario  Yes  No   99  18-24   University   \n",
       "\n",
       "          D67     D4  D11  ... H1Ax               H4 H56    S       QOL  GH  \\\n",
       "0      Others    Men    4  ...   No   Somewhat worse  No   No  0.829328  80   \n",
       "1  Caucasians    Men    4  ...   No       Much worse  No  Yes  0.873691  80   \n",
       "2  Caucasians    Men    2  ...  Yes   Somewhat worse  No  Yes  0.437208  41   \n",
       "3  Caucasians    Men    5  ...   No   Somewhat worse  No  Yes  0.911329  80   \n",
       "4  Caucasians  Women    2  ...   No  Somewhat better  No  Yes  0.860241  78   \n",
       "\n",
       "  L1         H3         Q2    Q1_cat  \n",
       "0  8       Good      A bit  Moderate  \n",
       "1  5       Fair      A bit   Minimal  \n",
       "2  5       Fair      A bit      Mild  \n",
       "3  6  Very good  Extremely  Moderate  \n",
       "4  4  Very good   Not very   Minimal  \n",
       "\n",
       "[5 rows x 23 columns]"
      ]
     },
     "execution_count": 94,
     "metadata": {},
     "output_type": "execute_result"
    }
   ],
   "source": [
    "import pandas as pd\n",
    "from scipy.stats import chi2_contingency\n",
    "\n",
    "file_name = \"data.csv\"\n",
    "data = pd.read_csv(file_name)\n",
    "\n",
    "data.head()"
   ]
  },
  {
   "cell_type": "code",
   "execution_count": 95,
   "metadata": {},
   "outputs": [
    {
     "data": {
      "text/plain": [
       "308"
      ]
     },
     "execution_count": 95,
     "metadata": {},
     "output_type": "execute_result"
    }
   ],
   "source": [
    "df = data[data.D11 == 1]\n",
    "\n",
    "\n",
    "\n",
    "len(df)"
   ]
  },
  {
   "cell_type": "code",
   "execution_count": 72,
   "metadata": {},
   "outputs": [],
   "source": [
    "df = data"
   ]
  },
  {
   "cell_type": "code",
   "execution_count": 96,
   "metadata": {},
   "outputs": [],
   "source": [
    "pet_ownership = df.O1\n",
    "pet_ownership = pet_ownership.replace({\"Yes\":1,\"No\": 0})"
   ]
  },
  {
   "cell_type": "code",
   "execution_count": 97,
   "metadata": {},
   "outputs": [
    {
     "name": "stdout",
     "output_type": "stream",
     "text": [
      "Loneliness Correlation:0.06746988676515843\n",
      "Percieved Mental Health Correlation:-0.17938054197913555\n",
      "Anxiety Correlation:0.08528213517845375\n",
      "Social Support Correlation:0.010022418916443565\n",
      "Mental Health Correlation:0.12431671185676386\n"
     ]
    }
   ],
   "source": [
    "\n",
    "loneliness = df.L1\n",
    "\n",
    "perceived_mental_health = df.H3\n",
    "perceived_mental_health = perceived_mental_health.replace({\"Poor\":1,\"Fair\": 2, \"Good\": 3, \"Very good\": 4, \"Excellent\": 5})\n",
    "\n",
    "anxiety = df.Q2\n",
    "anxiety = anxiety.replace({\"Not at all\":1,\"Not very\": 2, \"A bit\": 3, \"Quite a bit\": 4, \"Extremely\": 5})\n",
    "\n",
    "social_support = df.S\n",
    "social_support = social_support.replace({\"No\": 0, \"Yes\": 1})\n",
    "\n",
    "mental_health_condition = df.H1Ax\n",
    "mental_health_condition = mental_health_condition.replace({\"No\": 0, \"Yes\": 1})\n",
    "\n",
    "print(f'Loneliness Correlation:{pet_ownership.corr(loneliness, method=\"spearman\")}')\n",
    "print(f'Percieved Mental Health Correlation:{pet_ownership.corr(perceived_mental_health, method=\"spearman\")}')\n",
    "print(f'Anxiety Correlation:{pet_ownership.corr(anxiety, method=\"spearman\")}')\n",
    "print(f'Social Support Correlation:{pet_ownership.corr(social_support, method=\"spearman\")}')\n",
    "print(f'Mental Health Correlation:{pet_ownership.corr(mental_health_condition, method=\"spearman\")}')\n"
   ]
  },
  {
   "cell_type": "code",
   "execution_count": 76,
   "metadata": {},
   "outputs": [
    {
     "data": {
      "text/html": [
       "<div>\n",
       "<style scoped>\n",
       "    .dataframe tbody tr th:only-of-type {\n",
       "        vertical-align: middle;\n",
       "    }\n",
       "\n",
       "    .dataframe tbody tr th {\n",
       "        vertical-align: top;\n",
       "    }\n",
       "\n",
       "    .dataframe thead th {\n",
       "        text-align: right;\n",
       "    }\n",
       "</style>\n",
       "<table border=\"1\" class=\"dataframe\">\n",
       "  <thead>\n",
       "    <tr style=\"text-align: right;\">\n",
       "      <th>S</th>\n",
       "      <th>No</th>\n",
       "      <th>Yes</th>\n",
       "    </tr>\n",
       "    <tr>\n",
       "      <th>O1</th>\n",
       "      <th></th>\n",
       "      <th></th>\n",
       "    </tr>\n",
       "  </thead>\n",
       "  <tbody>\n",
       "    <tr>\n",
       "      <th>No</th>\n",
       "      <td>169</td>\n",
       "      <td>581</td>\n",
       "    </tr>\n",
       "    <tr>\n",
       "      <th>Yes</th>\n",
       "      <td>196</td>\n",
       "      <td>554</td>\n",
       "    </tr>\n",
       "  </tbody>\n",
       "</table>\n",
       "</div>"
      ],
      "text/plain": [
       "S     No  Yes\n",
       "O1           \n",
       "No   169  581\n",
       "Yes  196  554"
      ]
     },
     "execution_count": 76,
     "metadata": {},
     "output_type": "execute_result"
    }
   ],
   "source": [
    "contigency= pd.crosstab(df.O1, df.S)\n",
    "contigency "
   ]
  },
  {
   "cell_type": "code",
   "execution_count": 77,
   "metadata": {},
   "outputs": [
    {
     "data": {
      "text/plain": [
       "0.11770099855939845"
      ]
     },
     "execution_count": 77,
     "metadata": {},
     "output_type": "execute_result"
    }
   ],
   "source": [
    "c, p, dof, expected = chi2_contingency(contigency) \n",
    "\n",
    "p"
   ]
  },
  {
   "cell_type": "code",
   "execution_count": 30,
   "metadata": {},
   "outputs": [
    {
     "name": "stdout",
     "output_type": "stream",
     "text": [
      "Collecting scipy\n",
      "  Downloading scipy-1.9.1-cp310-cp310-win_amd64.whl (38.6 MB)\n",
      "     --------------------------------------- 38.6/38.6 MB 11.5 MB/s eta 0:00:00\n",
      "Requirement already satisfied: numpy<1.25.0,>=1.18.5 in c:\\users\\pc\\appdata\\local\\programs\\python\\python310\\lib\\site-packages (from scipy) (1.23.3)\n",
      "Installing collected packages: scipy\n",
      "Successfully installed scipy-1.9.1\n"
     ]
    },
    {
     "name": "stderr",
     "output_type": "stream",
     "text": [
      "WARNING: You are using pip version 22.0.4; however, version 22.2.2 is available.\n",
      "You should consider upgrading via the 'c:\\Users\\PC\\AppData\\Local\\Programs\\Python\\Python310\\python.exe -m pip install --upgrade pip' command.\n"
     ]
    }
   ],
   "source": [
    "!python -m pip install scipy\n"
   ]
  }
 ],
 "metadata": {
  "kernelspec": {
   "display_name": "Python 3.10.5 64-bit",
   "language": "python",
   "name": "python3"
  },
  "language_info": {
   "codemirror_mode": {
    "name": "ipython",
    "version": 3
   },
   "file_extension": ".py",
   "mimetype": "text/x-python",
   "name": "python",
   "nbconvert_exporter": "python",
   "pygments_lexer": "ipython3",
   "version": "3.10.5"
  },
  "orig_nbformat": 4,
  "vscode": {
   "interpreter": {
    "hash": "e593ac106456af50ce7af38f9671c411b49d6cd90f9b885e167f0f594e09038c"
   }
  }
 },
 "nbformat": 4,
 "nbformat_minor": 2
}
